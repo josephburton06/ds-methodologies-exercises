{
 "cells": [
  {
   "cell_type": "code",
   "execution_count": 89,
   "metadata": {},
   "outputs": [],
   "source": [
    "import warnings\n",
    "warnings.filterwarnings(\"ignore\")\n",
    "\n",
    "import pandas as pd\n",
    "import numpy as np\n",
    "\n",
    "%matplotlib inline\n",
    "import matplotlib.pyplot as plt\n",
    "import seaborn as sns\n",
    "\n",
    "from sklearn.preprocessing import LabelEncoder\n",
    "from sklearn.preprocessing import MinMaxScaler\n",
    "from sklearn.model_selection import train_test_split\n",
    "from sklearn import preprocessing\n",
    "from sklearn.linear_model import LogisticRegression\n",
    "from sklearn.metrics import classification_report\n",
    "from sklearn.metrics import confusion_matrix\n",
    "from sklearn.tree import DecisionTreeClassifier\n",
    "from sklearn import tree\n",
    "import graphviz\n",
    "from graphviz import Graph"
   ]
  },
  {
   "cell_type": "code",
   "execution_count": 8,
   "metadata": {},
   "outputs": [],
   "source": [
    "import acquire"
   ]
  },
  {
   "cell_type": "code",
   "execution_count": 11,
   "metadata": {},
   "outputs": [],
   "source": [
    "import prep_titanic"
   ]
  },
  {
   "cell_type": "code",
   "execution_count": 12,
   "metadata": {},
   "outputs": [],
   "source": [
    "from acquire import get_titanic_data\n",
    "from prep_titanic import prep_titanic_data"
   ]
  },
  {
   "cell_type": "code",
   "execution_count": 13,
   "metadata": {},
   "outputs": [
    {
     "data": {
      "text/html": [
       "<div>\n",
       "<style scoped>\n",
       "    .dataframe tbody tr th:only-of-type {\n",
       "        vertical-align: middle;\n",
       "    }\n",
       "\n",
       "    .dataframe tbody tr th {\n",
       "        vertical-align: top;\n",
       "    }\n",
       "\n",
       "    .dataframe thead th {\n",
       "        text-align: right;\n",
       "    }\n",
       "</style>\n",
       "<table border=\"1\" class=\"dataframe\">\n",
       "  <thead>\n",
       "    <tr style=\"text-align: right;\">\n",
       "      <th></th>\n",
       "      <th>passenger_id</th>\n",
       "      <th>survived</th>\n",
       "      <th>pclass</th>\n",
       "      <th>sex</th>\n",
       "      <th>age</th>\n",
       "      <th>sibsp</th>\n",
       "      <th>parch</th>\n",
       "      <th>fare</th>\n",
       "      <th>embarked</th>\n",
       "      <th>class</th>\n",
       "      <th>deck</th>\n",
       "      <th>embark_town</th>\n",
       "      <th>alone</th>\n",
       "    </tr>\n",
       "  </thead>\n",
       "  <tbody>\n",
       "    <tr>\n",
       "      <th>0</th>\n",
       "      <td>0</td>\n",
       "      <td>0</td>\n",
       "      <td>3</td>\n",
       "      <td>male</td>\n",
       "      <td>22.0</td>\n",
       "      <td>1</td>\n",
       "      <td>0</td>\n",
       "      <td>7.2500</td>\n",
       "      <td>S</td>\n",
       "      <td>Third</td>\n",
       "      <td>None</td>\n",
       "      <td>Southampton</td>\n",
       "      <td>0</td>\n",
       "    </tr>\n",
       "    <tr>\n",
       "      <th>1</th>\n",
       "      <td>1</td>\n",
       "      <td>1</td>\n",
       "      <td>1</td>\n",
       "      <td>female</td>\n",
       "      <td>38.0</td>\n",
       "      <td>1</td>\n",
       "      <td>0</td>\n",
       "      <td>71.2833</td>\n",
       "      <td>C</td>\n",
       "      <td>First</td>\n",
       "      <td>C</td>\n",
       "      <td>Cherbourg</td>\n",
       "      <td>0</td>\n",
       "    </tr>\n",
       "    <tr>\n",
       "      <th>2</th>\n",
       "      <td>2</td>\n",
       "      <td>1</td>\n",
       "      <td>3</td>\n",
       "      <td>female</td>\n",
       "      <td>26.0</td>\n",
       "      <td>0</td>\n",
       "      <td>0</td>\n",
       "      <td>7.9250</td>\n",
       "      <td>S</td>\n",
       "      <td>Third</td>\n",
       "      <td>None</td>\n",
       "      <td>Southampton</td>\n",
       "      <td>1</td>\n",
       "    </tr>\n",
       "    <tr>\n",
       "      <th>3</th>\n",
       "      <td>3</td>\n",
       "      <td>1</td>\n",
       "      <td>1</td>\n",
       "      <td>female</td>\n",
       "      <td>35.0</td>\n",
       "      <td>1</td>\n",
       "      <td>0</td>\n",
       "      <td>53.1000</td>\n",
       "      <td>S</td>\n",
       "      <td>First</td>\n",
       "      <td>C</td>\n",
       "      <td>Southampton</td>\n",
       "      <td>0</td>\n",
       "    </tr>\n",
       "    <tr>\n",
       "      <th>4</th>\n",
       "      <td>4</td>\n",
       "      <td>0</td>\n",
       "      <td>3</td>\n",
       "      <td>male</td>\n",
       "      <td>35.0</td>\n",
       "      <td>0</td>\n",
       "      <td>0</td>\n",
       "      <td>8.0500</td>\n",
       "      <td>S</td>\n",
       "      <td>Third</td>\n",
       "      <td>None</td>\n",
       "      <td>Southampton</td>\n",
       "      <td>1</td>\n",
       "    </tr>\n",
       "  </tbody>\n",
       "</table>\n",
       "</div>"
      ],
      "text/plain": [
       "   passenger_id  survived  pclass     sex   age  sibsp  parch     fare  \\\n",
       "0             0         0       3    male  22.0      1      0   7.2500   \n",
       "1             1         1       1  female  38.0      1      0  71.2833   \n",
       "2             2         1       3  female  26.0      0      0   7.9250   \n",
       "3             3         1       1  female  35.0      1      0  53.1000   \n",
       "4             4         0       3    male  35.0      0      0   8.0500   \n",
       "\n",
       "  embarked  class  deck  embark_town  alone  \n",
       "0        S  Third  None  Southampton      0  \n",
       "1        C  First     C    Cherbourg      0  \n",
       "2        S  Third  None  Southampton      1  \n",
       "3        S  First     C  Southampton      0  \n",
       "4        S  Third  None  Southampton      1  "
      ]
     },
     "execution_count": 13,
     "metadata": {},
     "output_type": "execute_result"
    }
   ],
   "source": [
    "df = acquire.get_titanic_data()\n",
    "df.head()"
   ]
  },
  {
   "cell_type": "code",
   "execution_count": 14,
   "metadata": {},
   "outputs": [
    {
     "data": {
      "text/html": [
       "<div>\n",
       "<style scoped>\n",
       "    .dataframe tbody tr th:only-of-type {\n",
       "        vertical-align: middle;\n",
       "    }\n",
       "\n",
       "    .dataframe tbody tr th {\n",
       "        vertical-align: top;\n",
       "    }\n",
       "\n",
       "    .dataframe thead th {\n",
       "        text-align: right;\n",
       "    }\n",
       "</style>\n",
       "<table border=\"1\" class=\"dataframe\">\n",
       "  <thead>\n",
       "    <tr style=\"text-align: right;\">\n",
       "      <th></th>\n",
       "      <th>passenger_id</th>\n",
       "      <th>survived</th>\n",
       "      <th>pclass</th>\n",
       "      <th>sex</th>\n",
       "      <th>age</th>\n",
       "      <th>sibsp</th>\n",
       "      <th>parch</th>\n",
       "      <th>fare</th>\n",
       "      <th>embarked</th>\n",
       "      <th>class</th>\n",
       "      <th>embark_town</th>\n",
       "      <th>alone</th>\n",
       "      <th>embarked_encode</th>\n",
       "    </tr>\n",
       "  </thead>\n",
       "  <tbody>\n",
       "    <tr>\n",
       "      <th>0</th>\n",
       "      <td>0</td>\n",
       "      <td>0</td>\n",
       "      <td>3</td>\n",
       "      <td>male</td>\n",
       "      <td>22.0</td>\n",
       "      <td>1</td>\n",
       "      <td>0</td>\n",
       "      <td>7.2500</td>\n",
       "      <td>S</td>\n",
       "      <td>Third</td>\n",
       "      <td>Southampton</td>\n",
       "      <td>0</td>\n",
       "      <td>3</td>\n",
       "    </tr>\n",
       "    <tr>\n",
       "      <th>1</th>\n",
       "      <td>1</td>\n",
       "      <td>1</td>\n",
       "      <td>1</td>\n",
       "      <td>female</td>\n",
       "      <td>38.0</td>\n",
       "      <td>1</td>\n",
       "      <td>0</td>\n",
       "      <td>71.2833</td>\n",
       "      <td>C</td>\n",
       "      <td>First</td>\n",
       "      <td>Cherbourg</td>\n",
       "      <td>0</td>\n",
       "      <td>0</td>\n",
       "    </tr>\n",
       "    <tr>\n",
       "      <th>2</th>\n",
       "      <td>2</td>\n",
       "      <td>1</td>\n",
       "      <td>3</td>\n",
       "      <td>female</td>\n",
       "      <td>26.0</td>\n",
       "      <td>0</td>\n",
       "      <td>0</td>\n",
       "      <td>7.9250</td>\n",
       "      <td>S</td>\n",
       "      <td>Third</td>\n",
       "      <td>Southampton</td>\n",
       "      <td>1</td>\n",
       "      <td>3</td>\n",
       "    </tr>\n",
       "    <tr>\n",
       "      <th>3</th>\n",
       "      <td>3</td>\n",
       "      <td>1</td>\n",
       "      <td>1</td>\n",
       "      <td>female</td>\n",
       "      <td>35.0</td>\n",
       "      <td>1</td>\n",
       "      <td>0</td>\n",
       "      <td>53.1000</td>\n",
       "      <td>S</td>\n",
       "      <td>First</td>\n",
       "      <td>Southampton</td>\n",
       "      <td>0</td>\n",
       "      <td>3</td>\n",
       "    </tr>\n",
       "    <tr>\n",
       "      <th>4</th>\n",
       "      <td>4</td>\n",
       "      <td>0</td>\n",
       "      <td>3</td>\n",
       "      <td>male</td>\n",
       "      <td>35.0</td>\n",
       "      <td>0</td>\n",
       "      <td>0</td>\n",
       "      <td>8.0500</td>\n",
       "      <td>S</td>\n",
       "      <td>Third</td>\n",
       "      <td>Southampton</td>\n",
       "      <td>1</td>\n",
       "      <td>3</td>\n",
       "    </tr>\n",
       "  </tbody>\n",
       "</table>\n",
       "</div>"
      ],
      "text/plain": [
       "   passenger_id  survived  pclass     sex   age  sibsp  parch     fare  \\\n",
       "0             0         0       3    male  22.0      1      0   7.2500   \n",
       "1             1         1       1  female  38.0      1      0  71.2833   \n",
       "2             2         1       3  female  26.0      0      0   7.9250   \n",
       "3             3         1       1  female  35.0      1      0  53.1000   \n",
       "4             4         0       3    male  35.0      0      0   8.0500   \n",
       "\n",
       "  embarked  class  embark_town  alone  embarked_encode  \n",
       "0        S  Third  Southampton      0                3  \n",
       "1        C  First    Cherbourg      0                0  \n",
       "2        S  Third  Southampton      1                3  \n",
       "3        S  First  Southampton      0                3  \n",
       "4        S  Third  Southampton      1                3  "
      ]
     },
     "execution_count": 14,
     "metadata": {},
     "output_type": "execute_result"
    }
   ],
   "source": [
    "df = prep_titanic_data(df)\n",
    "df.head()"
   ]
  },
  {
   "cell_type": "code",
   "execution_count": 17,
   "metadata": {},
   "outputs": [],
   "source": [
    "def encode_sex(df):\n",
    "    encoder = LabelEncoder()\n",
    "    encoder.fit(df.sex)\n",
    "    return df.assign(sex_encode = encoder.transform(df.sex))\n",
    "df = encode_sex(df)"
   ]
  },
  {
   "cell_type": "code",
   "execution_count": 18,
   "metadata": {},
   "outputs": [
    {
     "data": {
      "text/html": [
       "<div>\n",
       "<style scoped>\n",
       "    .dataframe tbody tr th:only-of-type {\n",
       "        vertical-align: middle;\n",
       "    }\n",
       "\n",
       "    .dataframe tbody tr th {\n",
       "        vertical-align: top;\n",
       "    }\n",
       "\n",
       "    .dataframe thead th {\n",
       "        text-align: right;\n",
       "    }\n",
       "</style>\n",
       "<table border=\"1\" class=\"dataframe\">\n",
       "  <thead>\n",
       "    <tr style=\"text-align: right;\">\n",
       "      <th></th>\n",
       "      <th>passenger_id</th>\n",
       "      <th>survived</th>\n",
       "      <th>pclass</th>\n",
       "      <th>sex</th>\n",
       "      <th>age</th>\n",
       "      <th>sibsp</th>\n",
       "      <th>parch</th>\n",
       "      <th>fare</th>\n",
       "      <th>embarked</th>\n",
       "      <th>class</th>\n",
       "      <th>embark_town</th>\n",
       "      <th>alone</th>\n",
       "      <th>embarked_encode</th>\n",
       "      <th>sex_encode</th>\n",
       "    </tr>\n",
       "  </thead>\n",
       "  <tbody>\n",
       "    <tr>\n",
       "      <th>0</th>\n",
       "      <td>0</td>\n",
       "      <td>0</td>\n",
       "      <td>3</td>\n",
       "      <td>male</td>\n",
       "      <td>22.0</td>\n",
       "      <td>1</td>\n",
       "      <td>0</td>\n",
       "      <td>7.2500</td>\n",
       "      <td>S</td>\n",
       "      <td>Third</td>\n",
       "      <td>Southampton</td>\n",
       "      <td>0</td>\n",
       "      <td>3</td>\n",
       "      <td>1</td>\n",
       "    </tr>\n",
       "    <tr>\n",
       "      <th>1</th>\n",
       "      <td>1</td>\n",
       "      <td>1</td>\n",
       "      <td>1</td>\n",
       "      <td>female</td>\n",
       "      <td>38.0</td>\n",
       "      <td>1</td>\n",
       "      <td>0</td>\n",
       "      <td>71.2833</td>\n",
       "      <td>C</td>\n",
       "      <td>First</td>\n",
       "      <td>Cherbourg</td>\n",
       "      <td>0</td>\n",
       "      <td>0</td>\n",
       "      <td>0</td>\n",
       "    </tr>\n",
       "    <tr>\n",
       "      <th>2</th>\n",
       "      <td>2</td>\n",
       "      <td>1</td>\n",
       "      <td>3</td>\n",
       "      <td>female</td>\n",
       "      <td>26.0</td>\n",
       "      <td>0</td>\n",
       "      <td>0</td>\n",
       "      <td>7.9250</td>\n",
       "      <td>S</td>\n",
       "      <td>Third</td>\n",
       "      <td>Southampton</td>\n",
       "      <td>1</td>\n",
       "      <td>3</td>\n",
       "      <td>0</td>\n",
       "    </tr>\n",
       "    <tr>\n",
       "      <th>3</th>\n",
       "      <td>3</td>\n",
       "      <td>1</td>\n",
       "      <td>1</td>\n",
       "      <td>female</td>\n",
       "      <td>35.0</td>\n",
       "      <td>1</td>\n",
       "      <td>0</td>\n",
       "      <td>53.1000</td>\n",
       "      <td>S</td>\n",
       "      <td>First</td>\n",
       "      <td>Southampton</td>\n",
       "      <td>0</td>\n",
       "      <td>3</td>\n",
       "      <td>0</td>\n",
       "    </tr>\n",
       "    <tr>\n",
       "      <th>4</th>\n",
       "      <td>4</td>\n",
       "      <td>0</td>\n",
       "      <td>3</td>\n",
       "      <td>male</td>\n",
       "      <td>35.0</td>\n",
       "      <td>0</td>\n",
       "      <td>0</td>\n",
       "      <td>8.0500</td>\n",
       "      <td>S</td>\n",
       "      <td>Third</td>\n",
       "      <td>Southampton</td>\n",
       "      <td>1</td>\n",
       "      <td>3</td>\n",
       "      <td>1</td>\n",
       "    </tr>\n",
       "  </tbody>\n",
       "</table>\n",
       "</div>"
      ],
      "text/plain": [
       "   passenger_id  survived  pclass     sex   age  sibsp  parch     fare  \\\n",
       "0             0         0       3    male  22.0      1      0   7.2500   \n",
       "1             1         1       1  female  38.0      1      0  71.2833   \n",
       "2             2         1       3  female  26.0      0      0   7.9250   \n",
       "3             3         1       1  female  35.0      1      0  53.1000   \n",
       "4             4         0       3    male  35.0      0      0   8.0500   \n",
       "\n",
       "  embarked  class  embark_town  alone  embarked_encode  sex_encode  \n",
       "0        S  Third  Southampton      0                3           1  \n",
       "1        C  First    Cherbourg      0                0           0  \n",
       "2        S  Third  Southampton      1                3           0  \n",
       "3        S  First  Southampton      0                3           0  \n",
       "4        S  Third  Southampton      1                3           1  "
      ]
     },
     "execution_count": 18,
     "metadata": {},
     "output_type": "execute_result"
    }
   ],
   "source": [
    "df.head()"
   ]
  },
  {
   "cell_type": "code",
   "execution_count": 32,
   "metadata": {},
   "outputs": [],
   "source": [
    "df_drop_age_na = df.dropna()"
   ]
  },
  {
   "cell_type": "code",
   "execution_count": 33,
   "metadata": {},
   "outputs": [
    {
     "data": {
      "text/plain": [
       "passenger_id       0\n",
       "survived           0\n",
       "pclass             0\n",
       "sex                0\n",
       "age                0\n",
       "sibsp              0\n",
       "parch              0\n",
       "fare               0\n",
       "embarked           0\n",
       "class              0\n",
       "embark_town        0\n",
       "alone              0\n",
       "embarked_encode    0\n",
       "sex_encode         0\n",
       "dtype: int64"
      ]
     },
     "execution_count": 33,
     "metadata": {},
     "output_type": "execute_result"
    }
   ],
   "source": [
    "df_drop_age_na.isnull().sum()"
   ]
  },
  {
   "cell_type": "code",
   "execution_count": 94,
   "metadata": {},
   "outputs": [
    {
     "data": {
      "text/html": [
       "<div>\n",
       "<style scoped>\n",
       "    .dataframe tbody tr th:only-of-type {\n",
       "        vertical-align: middle;\n",
       "    }\n",
       "\n",
       "    .dataframe tbody tr th {\n",
       "        vertical-align: top;\n",
       "    }\n",
       "\n",
       "    .dataframe thead th {\n",
       "        text-align: right;\n",
       "    }\n",
       "</style>\n",
       "<table border=\"1\" class=\"dataframe\">\n",
       "  <thead>\n",
       "    <tr style=\"text-align: right;\">\n",
       "      <th></th>\n",
       "      <th>pclass</th>\n",
       "      <th>age</th>\n",
       "      <th>sibsp</th>\n",
       "      <th>parch</th>\n",
       "      <th>sex_encode</th>\n",
       "    </tr>\n",
       "  </thead>\n",
       "  <tbody>\n",
       "    <tr>\n",
       "      <th>60</th>\n",
       "      <td>3</td>\n",
       "      <td>22.0</td>\n",
       "      <td>0</td>\n",
       "      <td>0</td>\n",
       "      <td>1</td>\n",
       "    </tr>\n",
       "    <tr>\n",
       "      <th>348</th>\n",
       "      <td>3</td>\n",
       "      <td>3.0</td>\n",
       "      <td>1</td>\n",
       "      <td>1</td>\n",
       "      <td>1</td>\n",
       "    </tr>\n",
       "    <tr>\n",
       "      <th>606</th>\n",
       "      <td>3</td>\n",
       "      <td>30.0</td>\n",
       "      <td>0</td>\n",
       "      <td>0</td>\n",
       "      <td>1</td>\n",
       "    </tr>\n",
       "    <tr>\n",
       "      <th>195</th>\n",
       "      <td>1</td>\n",
       "      <td>58.0</td>\n",
       "      <td>0</td>\n",
       "      <td>0</td>\n",
       "      <td>0</td>\n",
       "    </tr>\n",
       "    <tr>\n",
       "      <th>56</th>\n",
       "      <td>2</td>\n",
       "      <td>21.0</td>\n",
       "      <td>0</td>\n",
       "      <td>0</td>\n",
       "      <td>0</td>\n",
       "    </tr>\n",
       "  </tbody>\n",
       "</table>\n",
       "</div>"
      ],
      "text/plain": [
       "     pclass   age  sibsp  parch  sex_encode\n",
       "60        3  22.0      0      0           1\n",
       "348       3   3.0      1      1           1\n",
       "606       3  30.0      0      0           1\n",
       "195       1  58.0      0      0           0\n",
       "56        2  21.0      0      0           0"
      ]
     },
     "execution_count": 94,
     "metadata": {},
     "output_type": "execute_result"
    }
   ],
   "source": [
    "X = df_drop_age_na[['pclass', 'age', 'sibsp', 'parch', 'sex_encode']]\n",
    "y = df_drop_age_na[['survived']]\n",
    "X_train, X_test, y_train, y_test = train_test_split(X, y, test_size = .30, random_state = 123)\n",
    "\n",
    "X_train.head()"
   ]
  },
  {
   "cell_type": "code",
   "execution_count": 95,
   "metadata": {},
   "outputs": [],
   "source": [
    "logit = LogisticRegression(C=1, class_weight={1:2}, random_state = 123, solver='saga')"
   ]
  },
  {
   "cell_type": "code",
   "execution_count": 96,
   "metadata": {},
   "outputs": [
    {
     "data": {
      "text/plain": [
       "LogisticRegression(C=1, class_weight={1: 2}, dual=False, fit_intercept=True,\n",
       "          intercept_scaling=1, max_iter=100, multi_class='warn',\n",
       "          n_jobs=None, penalty='l2', random_state=123, solver='saga',\n",
       "          tol=0.0001, verbose=0, warm_start=False)"
      ]
     },
     "execution_count": 96,
     "metadata": {},
     "output_type": "execute_result"
    }
   ],
   "source": [
    "logit.fit(X_train, y_train)"
   ]
  },
  {
   "cell_type": "code",
   "execution_count": 97,
   "metadata": {},
   "outputs": [
    {
     "name": "stdout",
     "output_type": "stream",
     "text": [
      "Coefficient: \n",
      " [[-0.25329634  0.01860232 -0.04746574  0.4788608  -1.28895344]]\n",
      "Intercept: \n",
      " [0.77998646]\n"
     ]
    }
   ],
   "source": [
    "print('Coefficient: \\n', logit.coef_)\n",
    "print('Intercept: \\n', logit.intercept_)"
   ]
  },
  {
   "cell_type": "code",
   "execution_count": 98,
   "metadata": {},
   "outputs": [],
   "source": [
    "y_pred = logit.predict(X_train)"
   ]
  },
  {
   "cell_type": "code",
   "execution_count": 99,
   "metadata": {},
   "outputs": [],
   "source": [
    "y_pred_proba = logit.predict_proba(X_train)"
   ]
  },
  {
   "cell_type": "code",
   "execution_count": 100,
   "metadata": {},
   "outputs": [
    {
     "name": "stdout",
     "output_type": "stream",
     "text": [
      "Accuracy of Logistic Regression classifier on training set: 0.76\n"
     ]
    }
   ],
   "source": [
    "print('Accuracy of Logistic Regression classifier on training set: {:.2f}'\n",
    "     .format(logit.score(X_train, y_train)))"
   ]
  },
  {
   "cell_type": "code",
   "execution_count": 101,
   "metadata": {},
   "outputs": [
    {
     "name": "stdout",
     "output_type": "stream",
     "text": [
      "[[221  72]\n",
      " [ 48 158]]\n"
     ]
    }
   ],
   "source": [
    "print(confusion_matrix(y_train, y_pred))"
   ]
  },
  {
   "cell_type": "code",
   "execution_count": 112,
   "metadata": {},
   "outputs": [
    {
     "data": {
      "text/html": [
       "<div>\n",
       "<style scoped>\n",
       "    .dataframe tbody tr th:only-of-type {\n",
       "        vertical-align: middle;\n",
       "    }\n",
       "\n",
       "    .dataframe tbody tr th {\n",
       "        vertical-align: top;\n",
       "    }\n",
       "\n",
       "    .dataframe thead th {\n",
       "        text-align: right;\n",
       "    }\n",
       "</style>\n",
       "<table border=\"1\" class=\"dataframe\">\n",
       "  <thead>\n",
       "    <tr style=\"text-align: right;\">\n",
       "      <th></th>\n",
       "      <th>Pred -</th>\n",
       "      <th>Pred +</th>\n",
       "    </tr>\n",
       "  </thead>\n",
       "  <tbody>\n",
       "    <tr>\n",
       "      <th>Actual -</th>\n",
       "      <td>221</td>\n",
       "      <td>72</td>\n",
       "    </tr>\n",
       "    <tr>\n",
       "      <th>Actual +</th>\n",
       "      <td>48</td>\n",
       "      <td>158</td>\n",
       "    </tr>\n",
       "  </tbody>\n",
       "</table>\n",
       "</div>"
      ],
      "text/plain": [
       "          Pred -  Pred +\n",
       "Actual -     221      72\n",
       "Actual +      48     158"
      ]
     },
     "execution_count": 112,
     "metadata": {},
     "output_type": "execute_result"
    }
   ],
   "source": [
    "cm = pd.DataFrame(confusion_matrix(y_train, y_pred),\n",
    "             columns=['Pred -', 'Pred +'], index=['Actual -', 'Actual +'])\n",
    "\n",
    "cm"
   ]
  },
  {
   "cell_type": "code",
   "execution_count": 42,
   "metadata": {},
   "outputs": [
    {
     "name": "stdout",
     "output_type": "stream",
     "text": [
      "              precision    recall  f1-score   support\n",
      "\n",
      "           0       0.82      0.75      0.79       293\n",
      "           1       0.69      0.77      0.72       206\n",
      "\n",
      "   micro avg       0.76      0.76      0.76       499\n",
      "   macro avg       0.75      0.76      0.76       499\n",
      "weighted avg       0.77      0.76      0.76       499\n",
      "\n"
     ]
    }
   ],
   "source": [
    "print(classification_report(y_train, y_pred))"
   ]
  },
  {
   "cell_type": "markdown",
   "metadata": {},
   "source": [
    "For the sample that excludes the 177 passengers without an age:\n",
    "\n",
    "206 passengers actually survived. Of those that did actually survive, this model was able to predict 77% of them accurately based on the recall.\n",
    "\n",
    "230 passengers were predicted to have survived with this model.\n",
    "Out of those that were predicted to have survived, our precision for TP's, were 69%.\n",
    "This would mean that out of predicted positives, 31% were false positives.\n",
    "\n",
    "293 did not survive.  Of those that did not actually survive, this model was able to predict 75% of them accurately based on the recall.\n",
    "\n",
    "269 passengers were predicted to not have survived.\n",
    "Out of those that were predicted to have survived, our precision for TP's, was 82%.\n",
    "This would mean that out of predicted positives, 18% were false negatives."
   ]
  },
  {
   "cell_type": "code",
   "execution_count": 222,
   "metadata": {},
   "outputs": [],
   "source": [
    "X1 = df_drop_age_na[['pclass', 'age', 'parch', 'sex_encode']]\n",
    "y1 = df_drop_age_na[['survived']]\n",
    "\n",
    "def analyze_log_reg_model(X_df, y_df, solver_name):\n",
    "    print('Results using ' + str(solver_name) + ' as the solver.')\n",
    "    print('-----')\n",
    "    \n",
    "    X_df_train, X_df_test, y_df_train, y_df_test = train_test_split(X_df, y_df, test_size = .30, random_state = 123)\n",
    "    print(X_df_train.head())\n",
    "    \n",
    "    logit = LogisticRegression(C=1, class_weight={1:2}, random_state = 123, solver=solver_name)\n",
    "    logit.fit(X_df_train, y_df_train)\n",
    "    print('-----')\n",
    "    \n",
    "    print('Coefficient: \\n', logit.coef_)\n",
    "    print('Intercept: \\n', logit.intercept_)\n",
    "    print('-----')\n",
    "    \n",
    "    y_df_pred = logit.predict(X_df_train)\n",
    "    y_df_pred_proba = logit.predict_proba(X_df_train)\n",
    "    print('Accuracy of Logistic Regression classifier on training set: {:.5f}'\n",
    "     .format(logit.score(X_df_train, y_df_train)))\n",
    "    print('-----')\n",
    "    \n",
    "    print('The results of running the model on the test sample:')\n",
    "    \n",
    "    cm = pd.DataFrame(confusion_matrix(y_df_train, y_df_pred),\n",
    "             columns=['Pred -', 'Pred +'], index=['Actual -', 'Actual +'])\n",
    "    print(cm)\n",
    "    print('-----')\n",
    "    \n",
    "    print(classification_report(y_df_train, y_df_pred))\n",
    "    print('-----')\n",
    "    \n",
    "    y_df_pred_test = logit.predict(X_df_test)\n",
    "    y_df_pred_proba_test = logit.predict_proba(X_df_test)\n",
    "    print('Accuracy of Logistic Regression classifier on test set: {:.5f}'\n",
    "     .format(logit.score(X_df_test, y_df_test)))\n",
    "    print('-----')\n",
    "    \n",
    "    print('-----')\n",
    "    print('For the sample that excludes the 177 passengers without an age:')\n",
    "\n",
    "\n",
    "#     print('{:.0f} passengers actually survived. Of those that did not actually survive, \\\n",
    "#     this model was able to predict {:.2f}% of them accurately based on the recall.'.format((cm.iloc[0][0]) + (cm.iloc[0][1])), #need equation for percentage)\n",
    "\n",
    "#     230 passengers were predicted to have survived with this model.\n",
    "#     Out of those that were predicted to have survived, our precision for TP's, was 69%.\n",
    "#     This would mean that out of predicted positives, 31% were false positives.\n",
    "\n",
    "#     293 did not survive.  Of those that did not actually survive, this model was able to predict 75% of them accurately based on the recall.\n",
    "\n",
    "#     269 passengers were predicted to not have survived.\n",
    "#     Out of those that were predicted to have survived, our precision for TP's, was 82%.\n",
    "#     This would mean that out of predicted positives, 18% were false negatives.\n"
   ]
  },
  {
   "cell_type": "code",
   "execution_count": 223,
   "metadata": {},
   "outputs": [
    {
     "name": "stdout",
     "output_type": "stream",
     "text": [
      "Results using saga as the solver.\n",
      "-----\n",
      "     pclass   age  parch  sex_encode\n",
      "60        3  22.0      0           1\n",
      "348       3   3.0      1           1\n",
      "606       3  30.0      0           1\n",
      "195       1  58.0      0           0\n",
      "56        2  21.0      0           0\n",
      "-----\n",
      "Coefficient: \n",
      " [[-0.26035825  0.01864     0.47079312 -1.29017474]]\n",
      "Intercept: \n",
      " [0.77681435]\n",
      "-----\n",
      "Accuracy of Logistic Regression classifier on training set: 0.75551\n",
      "-----\n",
      "The results of running the model on the test sample:\n",
      "          Pred -  Pred +\n",
      "Actual -     218      75\n",
      "Actual +      47     159\n",
      "-----\n",
      "              precision    recall  f1-score   support\n",
      "\n",
      "           0       0.82      0.74      0.78       293\n",
      "           1       0.68      0.77      0.72       206\n",
      "\n",
      "   micro avg       0.76      0.76      0.76       499\n",
      "   macro avg       0.75      0.76      0.75       499\n",
      "weighted avg       0.76      0.76      0.76       499\n",
      "\n",
      "-----\n",
      "Accuracy of Logistic Regression classifier on test set: 0.66512\n",
      "-----\n",
      "-----\n",
      "For the sample that excludes the 177 passengers without an age:\n"
     ]
    }
   ],
   "source": [
    "analyze_log_reg_model(X1, y1, 'saga')"
   ]
  },
  {
   "cell_type": "code",
   "execution_count": 157,
   "metadata": {},
   "outputs": [
    {
     "name": "stdout",
     "output_type": "stream",
     "text": [
      "Results using liblinear as the solver.\n",
      "-----\n",
      "     pclass   age  parch  sex_encode\n",
      "60        3  22.0      0           1\n",
      "348       3   3.0      1           1\n",
      "606       3  30.0      0           1\n",
      "195       1  58.0      0           0\n",
      "56        2  21.0      0           0\n",
      "-----\n",
      "Coefficient: \n",
      " [[-0.92706373 -0.01779685  0.09747168 -2.29284896]]\n",
      "Intercept: \n",
      " [4.20419336]\n",
      "-----\n",
      "Accuracy of Logistic Regression classifier on training set: 0.78958\n",
      "-----\n",
      "The results of running the model on the test sample:\n",
      "          Pred -  Pred +\n",
      "Actual -     219      74\n",
      "Actual +      31     175\n",
      "-----\n",
      "              precision    recall  f1-score   support\n",
      "\n",
      "           0       0.88      0.75      0.81       293\n",
      "           1       0.70      0.85      0.77       206\n",
      "\n",
      "   micro avg       0.79      0.79      0.79       499\n",
      "   macro avg       0.79      0.80      0.79       499\n",
      "weighted avg       0.80      0.79      0.79       499\n",
      "\n",
      "-----\n",
      "Accuracy of Logistic Regression classifier on test set: 0.75814\n",
      "-----\n",
      "-----\n",
      "For the sample that excludes the 177 passengers without an age:\n",
      "293 passengers actually survived. Of those that did not actually survive,     this model was able to predict % of them accurately based on the recall.\n"
     ]
    }
   ],
   "source": [
    "analyze_log_reg_model(X1, y1, 'liblinear')"
   ]
  },
  {
   "cell_type": "code",
   "execution_count": 158,
   "metadata": {},
   "outputs": [],
   "source": [
    "X2 = df_drop_age_na[['pclass', 'age', 'parch', 'sex_encode', 'sibsp']]\n",
    "y2 = df_drop_age_na[['survived']]"
   ]
  },
  {
   "cell_type": "code",
   "execution_count": 159,
   "metadata": {},
   "outputs": [
    {
     "name": "stdout",
     "output_type": "stream",
     "text": [
      "Results using saga as the solver.\n",
      "-----\n",
      "     pclass   age  parch  sex_encode  sibsp\n",
      "60        3  22.0      0           1      0\n",
      "348       3   3.0      1           1      1\n",
      "606       3  30.0      0           1      0\n",
      "195       1  58.0      0           0      0\n",
      "56        2  21.0      0           0      0\n",
      "-----\n",
      "Coefficient: \n",
      " [[-0.25329634  0.01860232  0.4788608  -1.28895344 -0.04746574]]\n",
      "Intercept: \n",
      " [0.77998646]\n",
      "-----\n",
      "Accuracy of Logistic Regression classifier on training set: 0.75952\n",
      "-----\n",
      "The results of running the model on the test sample:\n",
      "          Pred -  Pred +\n",
      "Actual -     221      72\n",
      "Actual +      48     158\n",
      "-----\n",
      "              precision    recall  f1-score   support\n",
      "\n",
      "           0       0.82      0.75      0.79       293\n",
      "           1       0.69      0.77      0.72       206\n",
      "\n",
      "   micro avg       0.76      0.76      0.76       499\n",
      "   macro avg       0.75      0.76      0.76       499\n",
      "weighted avg       0.77      0.76      0.76       499\n",
      "\n",
      "-----\n",
      "Accuracy of Logistic Regression classifier on test set: 0.66512\n",
      "-----\n",
      "-----\n",
      "For the sample that excludes the 177 passengers without an age:\n",
      "293 passengers actually survived. Of those that did not actually survive,     this model was able to predict % of them accurately based on the recall.\n"
     ]
    }
   ],
   "source": [
    "analyze_log_reg_model(X2, y2, 'saga')"
   ]
  },
  {
   "cell_type": "code",
   "execution_count": 161,
   "metadata": {},
   "outputs": [
    {
     "name": "stdout",
     "output_type": "stream",
     "text": [
      "Results using liblinear as the solver.\n",
      "-----\n",
      "     pclass   age  parch  sex_encode  sibsp\n",
      "60        3  22.0      0           1      0\n",
      "348       3   3.0      1           1      1\n",
      "606       3  30.0      0           1      0\n",
      "195       1  58.0      0           0      0\n",
      "56        2  21.0      0           0      0\n",
      "-----\n",
      "Coefficient: \n",
      " [[-0.93271629 -0.02030594  0.18904603 -2.29565391 -0.26499086]]\n",
      "Intercept: \n",
      " [4.3924343]\n",
      "-----\n",
      "Accuracy of Logistic Regression classifier on training set: 0.77956\n",
      "-----\n",
      "The results of running the model on the test sample:\n",
      "          Pred -  Pred +\n",
      "Actual -     222      71\n",
      "Actual +      39     167\n",
      "-----\n",
      "              precision    recall  f1-score   support\n",
      "\n",
      "           0       0.85      0.76      0.80       293\n",
      "           1       0.70      0.81      0.75       206\n",
      "\n",
      "   micro avg       0.78      0.78      0.78       499\n",
      "   macro avg       0.78      0.78      0.78       499\n",
      "weighted avg       0.79      0.78      0.78       499\n",
      "\n",
      "-----\n",
      "Accuracy of Logistic Regression classifier on test set: 0.75814\n",
      "-----\n",
      "-----\n",
      "For the sample that excludes the 177 passengers without an age:\n",
      "293 passengers actually survived. Of those that did not actually survive,     this model was able to predict % of them accurately based on the recall.\n"
     ]
    }
   ],
   "source": [
    "analyze_log_reg_model(X2, y2, 'liblinear')"
   ]
  },
  {
   "cell_type": "markdown",
   "metadata": {},
   "source": [
    "# Decision Tree"
   ]
  },
  {
   "cell_type": "markdown",
   "metadata": {},
   "source": [
    "## Iris"
   ]
  },
  {
   "cell_type": "code",
   "execution_count": 43,
   "metadata": {},
   "outputs": [],
   "source": [
    "from acquire import get_iris_data"
   ]
  },
  {
   "cell_type": "code",
   "execution_count": 44,
   "metadata": {},
   "outputs": [],
   "source": [
    "from prep_iris import prep_iris_data"
   ]
  },
  {
   "cell_type": "code",
   "execution_count": 248,
   "metadata": {},
   "outputs": [
    {
     "data": {
      "text/html": [
       "<div>\n",
       "<style scoped>\n",
       "    .dataframe tbody tr th:only-of-type {\n",
       "        vertical-align: middle;\n",
       "    }\n",
       "\n",
       "    .dataframe tbody tr th {\n",
       "        vertical-align: top;\n",
       "    }\n",
       "\n",
       "    .dataframe thead th {\n",
       "        text-align: right;\n",
       "    }\n",
       "</style>\n",
       "<table border=\"1\" class=\"dataframe\">\n",
       "  <thead>\n",
       "    <tr style=\"text-align: right;\">\n",
       "      <th></th>\n",
       "      <th>measurement_id</th>\n",
       "      <th>sepal_length</th>\n",
       "      <th>sepal_width</th>\n",
       "      <th>petal_length</th>\n",
       "      <th>petal_width</th>\n",
       "      <th>species</th>\n",
       "      <th>species_enc</th>\n",
       "    </tr>\n",
       "  </thead>\n",
       "  <tbody>\n",
       "    <tr>\n",
       "      <th>0</th>\n",
       "      <td>1</td>\n",
       "      <td>5.1</td>\n",
       "      <td>3.5</td>\n",
       "      <td>1.4</td>\n",
       "      <td>0.2</td>\n",
       "      <td>setosa</td>\n",
       "      <td>0</td>\n",
       "    </tr>\n",
       "    <tr>\n",
       "      <th>1</th>\n",
       "      <td>2</td>\n",
       "      <td>4.9</td>\n",
       "      <td>3.0</td>\n",
       "      <td>1.4</td>\n",
       "      <td>0.2</td>\n",
       "      <td>setosa</td>\n",
       "      <td>0</td>\n",
       "    </tr>\n",
       "    <tr>\n",
       "      <th>2</th>\n",
       "      <td>3</td>\n",
       "      <td>4.7</td>\n",
       "      <td>3.2</td>\n",
       "      <td>1.3</td>\n",
       "      <td>0.2</td>\n",
       "      <td>setosa</td>\n",
       "      <td>0</td>\n",
       "    </tr>\n",
       "    <tr>\n",
       "      <th>3</th>\n",
       "      <td>4</td>\n",
       "      <td>4.6</td>\n",
       "      <td>3.1</td>\n",
       "      <td>1.5</td>\n",
       "      <td>0.2</td>\n",
       "      <td>setosa</td>\n",
       "      <td>0</td>\n",
       "    </tr>\n",
       "    <tr>\n",
       "      <th>4</th>\n",
       "      <td>5</td>\n",
       "      <td>5.0</td>\n",
       "      <td>3.6</td>\n",
       "      <td>1.4</td>\n",
       "      <td>0.2</td>\n",
       "      <td>setosa</td>\n",
       "      <td>0</td>\n",
       "    </tr>\n",
       "  </tbody>\n",
       "</table>\n",
       "</div>"
      ],
      "text/plain": [
       "   measurement_id  sepal_length  sepal_width  petal_length  petal_width  \\\n",
       "0               1           5.1          3.5           1.4          0.2   \n",
       "1               2           4.9          3.0           1.4          0.2   \n",
       "2               3           4.7          3.2           1.3          0.2   \n",
       "3               4           4.6          3.1           1.5          0.2   \n",
       "4               5           5.0          3.6           1.4          0.2   \n",
       "\n",
       "  species  species_enc  \n",
       "0  setosa            0  \n",
       "1  setosa            0  \n",
       "2  setosa            0  \n",
       "3  setosa            0  \n",
       "4  setosa            0  "
      ]
     },
     "execution_count": 248,
     "metadata": {},
     "output_type": "execute_result"
    }
   ],
   "source": [
    "df = prep_iris_data(get_iris_data())\n",
    "df.head()"
   ]
  },
  {
   "cell_type": "code",
   "execution_count": 249,
   "metadata": {},
   "outputs": [
    {
     "data": {
      "text/plain": [
       "measurement_id    0\n",
       "sepal_length      0\n",
       "sepal_width       0\n",
       "petal_length      0\n",
       "petal_width       0\n",
       "species           0\n",
       "species_enc       0\n",
       "dtype: int64"
      ]
     },
     "execution_count": 249,
     "metadata": {},
     "output_type": "execute_result"
    }
   ],
   "source": [
    "df.isnull().sum()"
   ]
  },
  {
   "cell_type": "code",
   "execution_count": 250,
   "metadata": {},
   "outputs": [
    {
     "data": {
      "text/html": [
       "<div>\n",
       "<style scoped>\n",
       "    .dataframe tbody tr th:only-of-type {\n",
       "        vertical-align: middle;\n",
       "    }\n",
       "\n",
       "    .dataframe tbody tr th {\n",
       "        vertical-align: top;\n",
       "    }\n",
       "\n",
       "    .dataframe thead th {\n",
       "        text-align: right;\n",
       "    }\n",
       "</style>\n",
       "<table border=\"1\" class=\"dataframe\">\n",
       "  <thead>\n",
       "    <tr style=\"text-align: right;\">\n",
       "      <th></th>\n",
       "      <th>sepal_length</th>\n",
       "      <th>sepal_width</th>\n",
       "      <th>petal_length</th>\n",
       "      <th>petal_width</th>\n",
       "    </tr>\n",
       "  </thead>\n",
       "  <tbody>\n",
       "    <tr>\n",
       "      <th>114</th>\n",
       "      <td>5.8</td>\n",
       "      <td>2.8</td>\n",
       "      <td>5.1</td>\n",
       "      <td>2.4</td>\n",
       "    </tr>\n",
       "    <tr>\n",
       "      <th>136</th>\n",
       "      <td>6.3</td>\n",
       "      <td>3.4</td>\n",
       "      <td>5.6</td>\n",
       "      <td>2.4</td>\n",
       "    </tr>\n",
       "    <tr>\n",
       "      <th>53</th>\n",
       "      <td>5.5</td>\n",
       "      <td>2.3</td>\n",
       "      <td>4.0</td>\n",
       "      <td>1.3</td>\n",
       "    </tr>\n",
       "    <tr>\n",
       "      <th>19</th>\n",
       "      <td>5.1</td>\n",
       "      <td>3.8</td>\n",
       "      <td>1.5</td>\n",
       "      <td>0.3</td>\n",
       "    </tr>\n",
       "    <tr>\n",
       "      <th>38</th>\n",
       "      <td>4.4</td>\n",
       "      <td>3.0</td>\n",
       "      <td>1.3</td>\n",
       "      <td>0.2</td>\n",
       "    </tr>\n",
       "  </tbody>\n",
       "</table>\n",
       "</div>"
      ],
      "text/plain": [
       "     sepal_length  sepal_width  petal_length  petal_width\n",
       "114           5.8          2.8           5.1          2.4\n",
       "136           6.3          3.4           5.6          2.4\n",
       "53            5.5          2.3           4.0          1.3\n",
       "19            5.1          3.8           1.5          0.3\n",
       "38            4.4          3.0           1.3          0.2"
      ]
     },
     "execution_count": 250,
     "metadata": {},
     "output_type": "execute_result"
    }
   ],
   "source": [
    "X3 = df.drop(['measurement_id', 'species', 'species_enc'], axis=1)\n",
    "y3 = df[['species']]\n",
    "X3_train, X3_test, y3_train, y3_test = train_test_split(X3, y3, test_size = .30, random_state=123)\n",
    "X3_train.head()"
   ]
  },
  {
   "cell_type": "code",
   "execution_count": 251,
   "metadata": {},
   "outputs": [],
   "source": [
    "from sklearn.tree import DecisionTreeClassifier\n",
    "clf = DecisionTreeClassifier(criterion='gini', max_depth=3, random_state=123)"
   ]
  },
  {
   "cell_type": "code",
   "execution_count": 252,
   "metadata": {},
   "outputs": [
    {
     "data": {
      "text/plain": [
       "DecisionTreeClassifier(class_weight=None, criterion='gini', max_depth=3,\n",
       "            max_features=None, max_leaf_nodes=None,\n",
       "            min_impurity_decrease=0.0, min_impurity_split=None,\n",
       "            min_samples_leaf=1, min_samples_split=2,\n",
       "            min_weight_fraction_leaf=0.0, presort=False, random_state=123,\n",
       "            splitter='best')"
      ]
     },
     "execution_count": 252,
     "metadata": {},
     "output_type": "execute_result"
    }
   ],
   "source": [
    "clf.fit(X3_train, y3_train)"
   ]
  },
  {
   "cell_type": "code",
   "execution_count": 253,
   "metadata": {},
   "outputs": [
    {
     "data": {
      "text/plain": [
       "array(['virginica', 'virginica', 'versicolor', 'setosa', 'setosa'],\n",
       "      dtype=object)"
      ]
     },
     "execution_count": 253,
     "metadata": {},
     "output_type": "execute_result"
    }
   ],
   "source": [
    "y3_pred = clf.predict(X3_train)\n",
    "y3_pred[0:5]"
   ]
  },
  {
   "cell_type": "code",
   "execution_count": 254,
   "metadata": {},
   "outputs": [
    {
     "data": {
      "text/plain": [
       "array([[0.   , 0.   , 1.   ],\n",
       "       [0.   , 0.   , 1.   ],\n",
       "       [0.   , 0.975, 0.025],\n",
       "       [1.   , 0.   , 0.   ],\n",
       "       [1.   , 0.   , 0.   ]])"
      ]
     },
     "execution_count": 254,
     "metadata": {},
     "output_type": "execute_result"
    }
   ],
   "source": [
    "y3_pred_proba = clf.predict_proba(X3_train)\n",
    "y3_pred_proba[0:5]"
   ]
  },
  {
   "cell_type": "code",
   "execution_count": 255,
   "metadata": {},
   "outputs": [
    {
     "name": "stdout",
     "output_type": "stream",
     "text": [
      "Accuracy of Decision Tree classifier on training set: 0.98095\n"
     ]
    }
   ],
   "source": [
    "print('Accuracy of Decision Tree classifier on training set: {:.5f}'.format(clf.score(X3_train, y3_train)))"
   ]
  },
  {
   "cell_type": "code",
   "execution_count": 256,
   "metadata": {},
   "outputs": [
    {
     "data": {
      "text/html": [
       "<div>\n",
       "<style scoped>\n",
       "    .dataframe tbody tr th:only-of-type {\n",
       "        vertical-align: middle;\n",
       "    }\n",
       "\n",
       "    .dataframe tbody tr th {\n",
       "        vertical-align: top;\n",
       "    }\n",
       "\n",
       "    .dataframe thead th {\n",
       "        text-align: right;\n",
       "    }\n",
       "</style>\n",
       "<table border=\"1\" class=\"dataframe\">\n",
       "  <thead>\n",
       "    <tr style=\"text-align: right;\">\n",
       "      <th></th>\n",
       "      <th>Pred Virginica</th>\n",
       "      <th>Pred Versicolor</th>\n",
       "      <th>Predicted Setosa</th>\n",
       "    </tr>\n",
       "  </thead>\n",
       "  <tbody>\n",
       "    <tr>\n",
       "      <th>Actual Virginica</th>\n",
       "      <td>32</td>\n",
       "      <td>0</td>\n",
       "      <td>0</td>\n",
       "    </tr>\n",
       "    <tr>\n",
       "      <th>Actual Versicolor</th>\n",
       "      <td>0</td>\n",
       "      <td>40</td>\n",
       "      <td>0</td>\n",
       "    </tr>\n",
       "    <tr>\n",
       "      <th>Actual Setosa</th>\n",
       "      <td>0</td>\n",
       "      <td>2</td>\n",
       "      <td>31</td>\n",
       "    </tr>\n",
       "  </tbody>\n",
       "</table>\n",
       "</div>"
      ],
      "text/plain": [
       "                   Pred Virginica  Pred Versicolor  Predicted Setosa\n",
       "Actual Virginica               32                0                 0\n",
       "Actual Versicolor               0               40                 0\n",
       "Actual Setosa                   0                2                31"
      ]
     },
     "execution_count": 256,
     "metadata": {},
     "output_type": "execute_result"
    }
   ],
   "source": [
    "cm = pd.DataFrame(confusion_matrix(y3_train, y3_pred),\n",
    "             columns=['Pred Virginica', 'Pred Versicolor', 'Predicted Setosa'], index=['Actual Virginica', 'Actual Versicolor', 'Actual Setosa'])\n",
    "cm"
   ]
  },
  {
   "cell_type": "code",
   "execution_count": 257,
   "metadata": {},
   "outputs": [
    {
     "name": "stdout",
     "output_type": "stream",
     "text": [
      "              precision    recall  f1-score   support\n",
      "\n",
      "      setosa       1.00      1.00      1.00        32\n",
      "  versicolor       0.95      1.00      0.98        40\n",
      "   virginica       1.00      0.94      0.97        33\n",
      "\n",
      "   micro avg       0.98      0.98      0.98       105\n",
      "   macro avg       0.98      0.98      0.98       105\n",
      "weighted avg       0.98      0.98      0.98       105\n",
      "\n"
     ]
    }
   ],
   "source": [
    "print(classification_report(y3_train, y3_pred))"
   ]
  },
  {
   "cell_type": "code",
   "execution_count": 258,
   "metadata": {},
   "outputs": [
    {
     "name": "stdout",
     "output_type": "stream",
     "text": [
      "Accuracy of Decision Tree classifier on test set: 0.93\n"
     ]
    }
   ],
   "source": [
    "print('Accuracy of Decision Tree classifier on test set: {:.2f}'.format(clf.score(X3_test, y3_test)))"
   ]
  },
  {
   "cell_type": "code",
   "execution_count": 90,
   "metadata": {},
   "outputs": [
    {
     "data": {
      "text/plain": [
       "'iris_decision_tree2.pdf'"
      ]
     },
     "execution_count": 90,
     "metadata": {},
     "output_type": "execute_result"
    }
   ],
   "source": [
    "from sklearn.datasets import load_iris\n",
    "\n",
    "iris = load_iris()\n",
    "clf = tree.DecisionTreeClassifier()\n",
    "clf = clf.fit(iris.data, iris.target)\n",
    "\n",
    "dot_data = tree.export_graphviz(clf, out_file=None)\n",
    "graph = graphviz.Source(dot_data)\n",
    "\n",
    "graph.render('iris_decision_tree2', view=True)"
   ]
  },
  {
   "cell_type": "code",
   "execution_count": 180,
   "metadata": {},
   "outputs": [],
   "source": [
    "X4 = df.drop(['measurement_id', 'species', 'species_enc'], axis=1)\n",
    "y4 = df[['species']]\n",
    "\n",
    "def analyze_decision_tree(X_df, y_df, string_criterion, max_depth_input):\n",
    "    print('Results using ' + str(string_criterion) + ' as the measure of impurity and ' + str(max_depth_input) + ' as the depth.')\n",
    "    print('-----')\n",
    "    X_df_train, X_df_test, y_df_train, y_df_test = train_test_split(X_df, y_df, test_size = .30, random_state=123)\n",
    "    X_df_train.head()\n",
    "\n",
    "    clf = DecisionTreeClassifier(criterion=string_criterion, max_depth=max_depth_input, random_state=123)\n",
    "\n",
    "    clf.fit(X_df_train, y_df_train)\n",
    "\n",
    "    y_df_pred = clf.predict(X_df_train)\n",
    "    print('Head of predicted on X_train:')\n",
    "    print(y_df_pred[0:5])\n",
    "    print('-----')\n",
    "\n",
    "    y_df_pred_proba = clf.predict_proba(X_df_train)\n",
    "    print('Head of probabilities on X_train:')\n",
    "    print(y_df_pred_proba[0:5])\n",
    "    print('-----')\n",
    "\n",
    "    print('Accuracy of Decision Tree classifier on training set: {:.8f}'.format(clf.score(X_df_train, y_df_train)))"
   ]
  },
  {
   "cell_type": "code",
   "execution_count": 182,
   "metadata": {},
   "outputs": [
    {
     "name": "stdout",
     "output_type": "stream",
     "text": [
      "Results using entropy as the measure of impurity and 3 as the depth.\n",
      "-----\n",
      "Head of predicted on X_train:\n",
      "['virginica' 'virginica' 'versicolor' 'setosa' 'setosa']\n",
      "-----\n",
      "Head of probabilities on X_train:\n",
      "[[0.    0.    1.   ]\n",
      " [0.    0.    1.   ]\n",
      " [0.    0.975 0.025]\n",
      " [1.    0.    0.   ]\n",
      " [1.    0.    0.   ]]\n",
      "-----\n",
      "Accuracy of Decision Tree classifier on training set: 0.98095238\n"
     ]
    }
   ],
   "source": [
    "analyze_decision_tree(X4, y4, 'entropy', 3)"
   ]
  },
  {
   "cell_type": "code",
   "execution_count": 170,
   "metadata": {},
   "outputs": [
    {
     "name": "stdout",
     "output_type": "stream",
     "text": [
      "Results using gini as the measure of impurity and 3 as the depth.\n",
      "-----\n",
      "Head of predicted on X_train:\n",
      "['virginica' 'virginica' 'versicolor' 'setosa' 'setosa']\n",
      "-----\n",
      "Head of probabilities on X_train:\n",
      "[[0.    0.    1.   ]\n",
      " [0.    0.    1.   ]\n",
      " [0.    0.975 0.025]\n",
      " [1.    0.    0.   ]\n",
      " [1.    0.    0.   ]]\n",
      "-----\n",
      "Accuracy of Decision Tree classifier on training set: 0.98095238\n"
     ]
    }
   ],
   "source": [
    "analyze_decision_tree(X4, y4, 'gini', 3)"
   ]
  },
  {
   "cell_type": "code",
   "execution_count": 172,
   "metadata": {},
   "outputs": [
    {
     "name": "stdout",
     "output_type": "stream",
     "text": [
      "Results using gini as the measure of impurity and 4 as the depth.\n",
      "-----\n",
      "Head of predicted on X_train:\n",
      "['virginica' 'virginica' 'versicolor' 'setosa' 'setosa']\n",
      "-----\n",
      "Head of probabilities on X_train:\n",
      "[[0. 0. 1.]\n",
      " [0. 0. 1.]\n",
      " [0. 1. 0.]\n",
      " [1. 0. 0.]\n",
      " [1. 0. 0.]]\n",
      "-----\n",
      "Accuracy of Decision Tree classifier on training set: 0.99047619\n"
     ]
    }
   ],
   "source": [
    "analyze_decision_tree(X4, y4, 'gini', 4)"
   ]
  },
  {
   "cell_type": "code",
   "execution_count": 173,
   "metadata": {},
   "outputs": [
    {
     "name": "stdout",
     "output_type": "stream",
     "text": [
      "Results using entropy as the measure of impurity and 4 as the depth.\n",
      "-----\n",
      "Head of predicted on X_train:\n",
      "['virginica' 'virginica' 'versicolor' 'setosa' 'setosa']\n",
      "-----\n",
      "Head of probabilities on X_train:\n",
      "[[0. 0. 1.]\n",
      " [0. 0. 1.]\n",
      " [0. 1. 0.]\n",
      " [1. 0. 0.]\n",
      " [1. 0. 0.]]\n",
      "-----\n",
      "Accuracy of Decision Tree classifier on training set: 0.99047619\n"
     ]
    }
   ],
   "source": [
    "analyze_decision_tree(X4, y4, 'entropy', 4)"
   ]
  },
  {
   "cell_type": "code",
   "execution_count": 174,
   "metadata": {},
   "outputs": [
    {
     "name": "stdout",
     "output_type": "stream",
     "text": [
      "Results using entropy as the measure of impurity and 2 as the depth.\n",
      "-----\n",
      "Head of predicted on X_train:\n",
      "['virginica' 'virginica' 'versicolor' 'setosa' 'setosa']\n",
      "-----\n",
      "Head of probabilities on X_train:\n",
      "[[0.         0.03225806 0.96774194]\n",
      " [0.         0.03225806 0.96774194]\n",
      " [0.         0.92857143 0.07142857]\n",
      " [1.         0.         0.        ]\n",
      " [1.         0.         0.        ]]\n",
      "-----\n",
      "Accuracy of Decision Tree classifier on training set: 0.96190476\n"
     ]
    }
   ],
   "source": [
    "analyze_decision_tree(X4, y4, 'entropy', 2)"
   ]
  },
  {
   "cell_type": "code",
   "execution_count": 175,
   "metadata": {},
   "outputs": [
    {
     "name": "stdout",
     "output_type": "stream",
     "text": [
      "Results using gini as the measure of impurity and 2 as the depth.\n",
      "-----\n",
      "Head of predicted on X_train:\n",
      "['virginica' 'virginica' 'versicolor' 'setosa' 'setosa']\n",
      "-----\n",
      "Head of probabilities on X_train:\n",
      "[[0.         0.03225806 0.96774194]\n",
      " [0.         0.03225806 0.96774194]\n",
      " [0.         0.92857143 0.07142857]\n",
      " [1.         0.         0.        ]\n",
      " [1.         0.         0.        ]]\n",
      "-----\n",
      "Accuracy of Decision Tree classifier on training set: 0.96190476\n"
     ]
    }
   ],
   "source": [
    "analyze_decision_tree(X4, y4, 'gini', 2)"
   ]
  },
  {
   "cell_type": "code",
   "execution_count": 232,
   "metadata": {},
   "outputs": [
    {
     "name": "stdout",
     "output_type": "stream",
     "text": [
      "Results using entropy as the measure of impurity and 3 as the depth.\n",
      "-----\n",
      "Head of predicted on X_train:\n",
      "['virginica' 'virginica' 'versicolor' 'setosa' 'setosa']\n",
      "-----\n",
      "Head of probabilities on X_train:\n",
      "[[0.    0.    1.   ]\n",
      " [0.    0.    1.   ]\n",
      " [0.    0.975 0.025]\n",
      " [1.    0.    0.   ]\n",
      " [1.    0.    0.   ]]\n",
      "-----\n",
      "Accuracy of Decision Tree classifier on training set: 0.98095238\n"
     ]
    }
   ],
   "source": [
    "analyze_decision_tree(X4, y4, 'entropy', 3)"
   ]
  },
  {
   "cell_type": "code",
   "execution_count": 176,
   "metadata": {},
   "outputs": [
    {
     "name": "stdout",
     "output_type": "stream",
     "text": [
      "Results using gini as the measure of impurity and 6 as the depth.\n",
      "-----\n",
      "Head of predicted on X_train:\n",
      "['virginica' 'virginica' 'versicolor' 'setosa' 'setosa']\n",
      "-----\n",
      "Head of probabilities on X_train:\n",
      "[[0. 0. 1.]\n",
      " [0. 0. 1.]\n",
      " [0. 1. 0.]\n",
      " [1. 0. 0.]\n",
      " [1. 0. 0.]]\n",
      "-----\n",
      "Accuracy of Decision Tree classifier on training set: 1.00000000\n"
     ]
    }
   ],
   "source": [
    "analyze_decision_tree(X4, y4, 'gini', 6)"
   ]
  },
  {
   "cell_type": "code",
   "execution_count": 177,
   "metadata": {},
   "outputs": [
    {
     "name": "stdout",
     "output_type": "stream",
     "text": [
      "Results using entropy as the measure of impurity and 6 as the depth.\n",
      "-----\n",
      "Head of predicted on X_train:\n",
      "['virginica' 'virginica' 'versicolor' 'setosa' 'setosa']\n",
      "-----\n",
      "Head of probabilities on X_train:\n",
      "[[0. 0. 1.]\n",
      " [0. 0. 1.]\n",
      " [0. 1. 0.]\n",
      " [1. 0. 0.]\n",
      " [1. 0. 0.]]\n",
      "-----\n",
      "Accuracy of Decision Tree classifier on training set: 1.00000000\n"
     ]
    }
   ],
   "source": [
    "analyze_decision_tree(X4, y4, 'entropy', 6)"
   ]
  },
  {
   "cell_type": "code",
   "execution_count": 183,
   "metadata": {},
   "outputs": [],
   "source": [
    "X5 = df_drop_age_na[['pclass', 'age', 'parch', 'sex_encode']]\n",
    "y5 = df_drop_age_na[['survived']]"
   ]
  },
  {
   "cell_type": "code",
   "execution_count": 211,
   "metadata": {},
   "outputs": [
    {
     "name": "stdout",
     "output_type": "stream",
     "text": [
      "Results using entropy as the measure of impurity and 5 as the depth.\n",
      "-----\n",
      "Head of predicted on X_train:\n",
      "[0 0 0 1 1]\n",
      "-----\n",
      "Head of probabilities on X_train:\n",
      "[[0.9        0.1       ]\n",
      " [0.61111111 0.38888889]\n",
      " [0.9        0.1       ]\n",
      " [0.03030303 0.96969697]\n",
      " [0.         1.        ]]\n",
      "-----\n",
      "Accuracy of Decision Tree classifier on training set: 0.83567134\n"
     ]
    }
   ],
   "source": [
    "analyze_decision_tree(X5, y5, 'entropy', 5)"
   ]
  },
  {
   "cell_type": "code",
   "execution_count": 212,
   "metadata": {},
   "outputs": [
    {
     "name": "stdout",
     "output_type": "stream",
     "text": [
      "Results using gini as the measure of impurity and 5 as the depth.\n",
      "-----\n",
      "Head of predicted on X_train:\n",
      "[0 0 0 1 1]\n",
      "-----\n",
      "Head of probabilities on X_train:\n",
      "[[0.9        0.1       ]\n",
      " [0.61111111 0.38888889]\n",
      " [0.9        0.1       ]\n",
      " [0.         1.        ]\n",
      " [0.13333333 0.86666667]]\n",
      "-----\n",
      "Accuracy of Decision Tree classifier on training set: 0.84168337\n"
     ]
    }
   ],
   "source": [
    "analyze_decision_tree(X5, y5, 'gini', 5)"
   ]
  },
  {
   "cell_type": "code",
   "execution_count": 226,
   "metadata": {},
   "outputs": [],
   "source": [
    "X6 = df_drop_age_na[['pclass', 'age', 'parch', 'sex_encode', 'sibsp']]\n",
    "y6 = df_drop_age_na[['survived']]"
   ]
  },
  {
   "cell_type": "code",
   "execution_count": 227,
   "metadata": {},
   "outputs": [
    {
     "name": "stdout",
     "output_type": "stream",
     "text": [
      "Results using gini as the measure of impurity and 5 as the depth.\n",
      "-----\n",
      "Head of predicted on X_train:\n",
      "[0 1 0 1 1]\n",
      "-----\n",
      "Head of probabilities on X_train:\n",
      "[[0.9        0.1       ]\n",
      " [0.         1.        ]\n",
      " [0.9        0.1       ]\n",
      " [0.         1.        ]\n",
      " [0.13333333 0.86666667]]\n",
      "-----\n",
      "Accuracy of Decision Tree classifier on training set: 0.86372745\n"
     ]
    }
   ],
   "source": [
    "analyze_decision_tree(X6, y6, 'gini', 5)"
   ]
  },
  {
   "cell_type": "code",
   "execution_count": 228,
   "metadata": {},
   "outputs": [
    {
     "name": "stdout",
     "output_type": "stream",
     "text": [
      "Results using entropy as the measure of impurity and 5 as the depth.\n",
      "-----\n",
      "Head of predicted on X_train:\n",
      "[0 1 0 1 1]\n",
      "-----\n",
      "Head of probabilities on X_train:\n",
      "[[0.88541667 0.11458333]\n",
      " [0.         1.        ]\n",
      " [0.88541667 0.11458333]\n",
      " [0.03030303 0.96969697]\n",
      " [0.         1.        ]]\n",
      "-----\n",
      "Accuracy of Decision Tree classifier on training set: 0.85971944\n"
     ]
    }
   ],
   "source": [
    "analyze_decision_tree(X6, y6, 'entropy', 5)"
   ]
  },
  {
   "cell_type": "code",
   "execution_count": 224,
   "metadata": {},
   "outputs": [],
   "source": [
    "def test_classification_model(X_df, y_df, string_criterion, max_depth_input):   \n",
    "    \n",
    "    print('Results using ' + str(string_criterion) + ' as the measure of impurity and ' + str(max_depth_input) + ' as the depth.')\n",
    "    print('-----')\n",
    "    X_df_train, X_df_test, y_df_train, y_df_test = train_test_split(X_df, y_df, test_size = .30, random_state=123)\n",
    "    X_df_train.head()\n",
    "\n",
    "    clf = DecisionTreeClassifier(criterion=string_criterion, max_depth=max_depth_input, random_state=123)\n",
    "\n",
    "    clf.fit(X_df_train, y_df_train)\n",
    "\n",
    "    y_df_pred = clf.predict(X_df_train)\n",
    "    print('Head of predicted on X_train:')\n",
    "    print(y_df_pred[0:5])\n",
    "    print('-----')\n",
    "\n",
    "    y_df_pred_proba = clf.predict_proba(X_df_train)\n",
    "    print('Head of probabilities on X_train:')\n",
    "    print(y_df_pred_proba[0:5])\n",
    "    print('-----')\n",
    "\n",
    "    print('Accuracy of Decision Tree classifier on training set: {:.8f}'.format(clf.score(X_df_train, y_df_train)))\n",
    "    print('-----')\n",
    "    \n",
    "    \n",
    "    print('The results of running the model on the test sample:')\n",
    "    \n",
    "    cm = pd.DataFrame(confusion_matrix(y_df_train, y_df_pred),\n",
    "             columns=['Pred -', 'Pred +'], index=['Actual -', 'Actual +'])\n",
    "    print(cm)\n",
    "    print('-----')\n",
    "    \n",
    "    print(classification_report(y_df_train, y_df_pred))\n",
    "    print('-----')\n",
    "    \n",
    "    y_df_pred_test = clf.predict(X_df_test)\n",
    "    y_df_pred_proba_test = clf.predict_proba(X_df_test)\n",
    "    print('Accuracy of Logistic Regression classifier on test set: {:.6f}'\n",
    "     .format(clf.score(X_df_test, y_df_test)))\n",
    "    print('-----')"
   ]
  },
  {
   "cell_type": "code",
   "execution_count": 230,
   "metadata": {},
   "outputs": [
    {
     "name": "stdout",
     "output_type": "stream",
     "text": [
      "Results using gini as the measure of impurity and 5 as the depth.\n",
      "-----\n",
      "Head of predicted on X_train:\n",
      "[0 0 0 1 1]\n",
      "-----\n",
      "Head of probabilities on X_train:\n",
      "[[0.9        0.1       ]\n",
      " [0.61111111 0.38888889]\n",
      " [0.9        0.1       ]\n",
      " [0.         1.        ]\n",
      " [0.13333333 0.86666667]]\n",
      "-----\n",
      "Accuracy of Decision Tree classifier on training set: 0.84168337\n",
      "-----\n",
      "The results of running the model on the test sample:\n",
      "          Pred -  Pred +\n",
      "Actual -     258      35\n",
      "Actual +      44     162\n",
      "-----\n",
      "              precision    recall  f1-score   support\n",
      "\n",
      "           0       0.85      0.88      0.87       293\n",
      "           1       0.82      0.79      0.80       206\n",
      "\n",
      "   micro avg       0.84      0.84      0.84       499\n",
      "   macro avg       0.84      0.83      0.84       499\n",
      "weighted avg       0.84      0.84      0.84       499\n",
      "\n",
      "-----\n",
      "Accuracy of Logistic Regression classifier on test set: 0.800000\n",
      "-----\n"
     ]
    }
   ],
   "source": [
    "test_classification_model(X5, y5, 'gini', 5)"
   ]
  },
  {
   "cell_type": "code",
   "execution_count": 231,
   "metadata": {},
   "outputs": [
    {
     "name": "stdout",
     "output_type": "stream",
     "text": [
      "Results using gini as the measure of impurity and 6 as the depth.\n",
      "-----\n",
      "Head of predicted on X_train:\n",
      "[0 1 0 1 1]\n",
      "-----\n",
      "Head of probabilities on X_train:\n",
      "[[0.87857143 0.12142857]\n",
      " [0.         1.        ]\n",
      " [0.87857143 0.12142857]\n",
      " [0.         1.        ]\n",
      " [0.09090909 0.90909091]]\n",
      "-----\n",
      "Accuracy of Decision Tree classifier on training set: 0.86973948\n",
      "-----\n",
      "The results of running the model on the test sample:\n",
      "          Pred -  Pred +\n",
      "Actual -     275      18\n",
      "Actual +      47     159\n",
      "-----\n",
      "              precision    recall  f1-score   support\n",
      "\n",
      "           0       0.85      0.94      0.89       293\n",
      "           1       0.90      0.77      0.83       206\n",
      "\n",
      "   micro avg       0.87      0.87      0.87       499\n",
      "   macro avg       0.88      0.86      0.86       499\n",
      "weighted avg       0.87      0.87      0.87       499\n",
      "\n",
      "-----\n",
      "Accuracy of Logistic Regression classifier on test set: 0.827907\n",
      "-----\n"
     ]
    }
   ],
   "source": [
    "test_classification_model(X6, y6, 'gini', 6)"
   ]
  },
  {
   "cell_type": "code",
   "execution_count": null,
   "metadata": {},
   "outputs": [],
   "source": []
  },
  {
   "cell_type": "code",
   "execution_count": null,
   "metadata": {},
   "outputs": [],
   "source": []
  },
  {
   "cell_type": "code",
   "execution_count": null,
   "metadata": {},
   "outputs": [],
   "source": []
  },
  {
   "cell_type": "code",
   "execution_count": null,
   "metadata": {},
   "outputs": [],
   "source": []
  },
  {
   "cell_type": "code",
   "execution_count": null,
   "metadata": {},
   "outputs": [],
   "source": []
  }
 ],
 "metadata": {
  "kernelspec": {
   "display_name": "Python 3",
   "language": "python",
   "name": "python3"
  },
  "language_info": {
   "codemirror_mode": {
    "name": "ipython",
    "version": 3
   },
   "file_extension": ".py",
   "mimetype": "text/x-python",
   "name": "python",
   "nbconvert_exporter": "python",
   "pygments_lexer": "ipython3",
   "version": "3.7.1"
  }
 },
 "nbformat": 4,
 "nbformat_minor": 2
}
